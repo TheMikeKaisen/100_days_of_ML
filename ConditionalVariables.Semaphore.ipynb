{
 "cells": [
  {
   "cell_type": "code",
   "execution_count": 17,
   "id": "36a47d65-2a8c-45ed-b238-2ae1d4240784",
   "metadata": {},
   "outputs": [
    {
     "name": "stdout",
     "output_type": "stream",
     "text": [
      "Waiting on condition variable cond: t1\n",
      ".\n",
      ".\n",
      ".\n",
      ".\n",
      ".\n",
      "Signaling condition variable cond t2\n",
      "Notification done t2\n",
      "Condition met: t1\n"
     ]
    }
   ],
   "source": [
    "from threading import *\n",
    "import time\n",
    "\n",
    "cond = Condition()\n",
    "done = 1\n",
    "\n",
    "def task(name):\n",
    "    global done\n",
    "    with cond:  # Acquire the condition variable lock\n",
    "        if done == 1:\n",
    "            done = 2\n",
    "            print(\"Waiting on condition variable cond:\", name)\n",
    "            cond.wait()  # Thread goes to sleep\n",
    "            print(\"Condition met:\", name)\n",
    "        else:\n",
    "            for i in range(5):\n",
    "                print('.')\n",
    "                time.sleep(1)\n",
    "            print(\"Signaling condition variable cond\", name)\n",
    "            cond.notify_all()  # Wake up all waiting threads\n",
    "            print(\"Notification done\", name)\n",
    "\n",
    "\n",
    "if __name__== '__main__':\n",
    "    t1 = Thread(target=task, args=(\"t1\",))\n",
    "    t2 = Thread(target=task, args=(\"t2\",))\n",
    "    \n",
    "    t1.start()\n",
    "    t2.start()"
   ]
  },
  {
   "cell_type": "code",
   "execution_count": 20,
   "id": "4b612191-70bc-4235-814b-29b225c6ff59",
   "metadata": {
    "scrolled": true
   },
   "outputs": [
    {
     "name": "stdout",
     "output_type": "stream",
     "text": [
      "Thread-1 workingThread-2 working\n",
      "\n",
      "Thread-3 working\n",
      "Thread-2 workingThread-1 working\n",
      "Thread-3 working\n",
      "\n",
      "Thread-1 workingThread-3 working\n",
      "\n",
      "Thread-2 working\n",
      "Thread-3 workingThread-1 working\n",
      "Thread-2 working\n",
      "\n",
      "Thread-1 workingThread-3 working\n",
      "Thread-2 working\n",
      "\n",
      "Thread-4 workingThread-5 working\n",
      "\n",
      "Thread-5 working\n",
      "Thread-4 working\n",
      "Thread-5 workingThread-4 working\n",
      "\n",
      "Thread-4 workingThread-5 working\n",
      "\n",
      "Thread-5 workingThread-4 working\n",
      "\n"
     ]
    }
   ],
   "source": [
    "from threading import *  # Import threading module\n",
    "import time  # Import time module for sleep\n",
    "\n",
    "sem = Semaphore(3)\n",
    "\n",
    "def task(name):\n",
    "    sem.acquire()  # Thread waits until a semaphore slot is available\n",
    "    for i in range(5):\n",
    "        print(\"{} working\".format(name))# Print the thread name\n",
    "        time.sleep(1.3)  # Simulating some work (1 second delay)\n",
    "    sem.release()  # Release the semaphore to allow another thread\n",
    "\n",
    "if __name__ == '__main__':\n",
    "    t1 = Thread(target=task, args=('Thread-1',))\n",
    "    t2 = Thread(target=task, args=('Thread-2',))\n",
    "    t3 = Thread(target=task, args=('Thread-3',))\n",
    "    t4 = Thread(target=task, args=('Thread-4',))\n",
    "    t5 = Thread(target=task, args=('Thread-5',))\n",
    "\n",
    "    t1.start()\n",
    "    t2.start()\n",
    "    t3.start()\n",
    "    t4.start()\n",
    "    t5.start()\n"
   ]
  }
 ],
 "metadata": {
  "kernelspec": {
   "display_name": "Python 3 (ipykernel)",
   "language": "python",
   "name": "python3"
  },
  "language_info": {
   "codemirror_mode": {
    "name": "ipython",
    "version": 3
   },
   "file_extension": ".py",
   "mimetype": "text/x-python",
   "name": "python",
   "nbconvert_exporter": "python",
   "pygments_lexer": "ipython3",
   "version": "3.13.1"
  }
 },
 "nbformat": 4,
 "nbformat_minor": 5
}
