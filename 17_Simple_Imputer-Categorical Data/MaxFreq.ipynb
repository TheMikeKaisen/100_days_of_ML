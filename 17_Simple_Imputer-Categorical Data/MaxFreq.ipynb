{
 "cells": [
  {
   "cell_type": "markdown",
   "id": "39cc4c28-270f-4dba-9b57-cb89996ae4ba",
   "metadata": {},
   "source": [
    "# Imputing the missing categorical data with maximum frequency"
   ]
  },
  {
   "cell_type": "code",
   "execution_count": 7,
   "id": "08b48b3f-5c52-44d9-9d3f-b34526c7be2a",
   "metadata": {},
   "outputs": [],
   "source": [
    "import pandas as pd"
   ]
  },
  {
   "cell_type": "code",
   "execution_count": 8,
   "id": "a2e39827-b002-4ba5-ad61-235053566a40",
   "metadata": {},
   "outputs": [],
   "source": [
    "df = pd.read_csv(\"train.csv\", usecols=['GarageQual','FireplaceQu','SalePrice'])"
   ]
  },
  {
   "cell_type": "code",
   "execution_count": 10,
   "id": "be047202-53ef-4a6e-bddd-4ebb4c795506",
   "metadata": {},
   "outputs": [],
   "source": [
    "from sklearn.model_selection import train_test_split\n",
    "X_train,X_test,y_train,y_test = train_test_split(df.drop(columns=['SalePrice']),df['SalePrice'],test_size=0.2)\n"
   ]
  },
  {
   "cell_type": "code",
   "execution_count": 13,
   "id": "30a1d824-e8d5-43c2-8c79-54db74ed3895",
   "metadata": {},
   "outputs": [
    {
     "data": {
      "text/plain": [
       "array(['Gd', 'TA'], dtype=object)"
      ]
     },
     "execution_count": 13,
     "metadata": {},
     "output_type": "execute_result"
    }
   ],
   "source": [
    "from sklearn.impute import SimpleImputer\n",
    "imputer = SimpleImputer(strategy='most_frequent')\n",
    "X_train = imputer.fit_transform(X_train)\n",
    "X_test = imputer.transform(X_train)\n",
    "imputer.statistics_"
   ]
  },
  {
   "cell_type": "code",
   "execution_count": 15,
   "id": "3ff0f8b0-745f-4002-bad8-e520113bf7cb",
   "metadata": {},
   "outputs": [],
   "source": [
    "X_train = pd.DataFrame(X_train, columns=['GarageQual','FireplaceQu'])"
   ]
  },
  {
   "cell_type": "code",
   "execution_count": 18,
   "id": "60962b1d-886a-44ad-b052-1decc5b673c6",
   "metadata": {},
   "outputs": [
    {
     "data": {
      "text/plain": [
       "GarageQual     0\n",
       "FireplaceQu    0\n",
       "dtype: int64"
      ]
     },
     "execution_count": 18,
     "metadata": {},
     "output_type": "execute_result"
    }
   ],
   "source": [
    "X_train.isnull().sum()"
   ]
  },
  {
   "cell_type": "code",
   "execution_count": null,
   "id": "f732aa87-bcc9-4437-90a9-04b962b516f3",
   "metadata": {},
   "outputs": [],
   "source": []
  }
 ],
 "metadata": {
  "kernelspec": {
   "display_name": "Python 3 (ipykernel)",
   "language": "python",
   "name": "python3"
  },
  "language_info": {
   "codemirror_mode": {
    "name": "ipython",
    "version": 3
   },
   "file_extension": ".py",
   "mimetype": "text/x-python",
   "name": "python",
   "nbconvert_exporter": "python",
   "pygments_lexer": "ipython3",
   "version": "3.13.1"
  }
 },
 "nbformat": 4,
 "nbformat_minor": 5
}
